{
 "cells": [
  {
   "cell_type": "code",
   "execution_count": 127,
   "metadata": {
    "collapsed": true
   },
   "outputs": [],
   "source": [
    "# setup - import all relevant modules\n",
    "%matplotlib inline\n",
    "import os\n",
    "import numpy as np\n",
    "import pandas as pd\n",
    "import seaborn as sns\n",
    "import datetime as dt\n",
    "import matplotlib.pyplot as plt"
   ]
  },
  {
   "cell_type": "code",
   "execution_count": 96,
   "metadata": {
    "collapsed": true
   },
   "outputs": [],
   "source": [
    "# Read data and get basic shape information\n",
    "ted_info = pd.read_csv(\"ted_main.csv\")\n",
    "colnames = ted_info.columns\n",
    "nrows, ncols = ted_info.shape"
   ]
  },
  {
   "cell_type": "markdown",
   "metadata": {},
   "source": [
    "## TED Columns"
   ]
  },
  {
   "cell_type": "code",
   "execution_count": 97,
   "metadata": {},
   "outputs": [
    {
     "name": "stdout",
     "output_type": "stream",
     "text": [
      "Index(['comments', 'description', 'duration', 'event', 'film_date',\n",
      "       'languages', 'main_speaker', 'name', 'num_speaker', 'published_date',\n",
      "       'ratings', 'related_talks', 'speaker_occupation', 'tags', 'title',\n",
      "       'url', 'views'],\n",
      "      dtype='object')\n"
     ]
    }
   ],
   "source": [
    "print(colnames)"
   ]
  },
  {
   "cell_type": "markdown",
   "metadata": {},
   "source": []
  },
  {
   "cell_type": "markdown",
   "metadata": {},
   "source": [
    "### Reorder the columns"
   ]
  },
  {
   "cell_type": "code",
   "execution_count": 98,
   "metadata": {
    "collapsed": true
   },
   "outputs": [],
   "source": [
    "ted_info = ted_info[['name', 'title', 'description', 'main_speaker', 'num_speaker', 'speaker_occupation', 'event', 'film_date', 'published_date', 'duration', 'ratings', 'views', 'tags', 'comments', 'related_talks', 'url']]"
   ]
  },
  {
   "cell_type": "code",
   "execution_count": 99,
   "metadata": {},
   "outputs": [],
   "source": [
    "ted_info['film_date'] = ted_info['film_date'].apply(lambda x: dt.datetime.fromtimestamp( int(x)).strftime('%d-%m-%Y'))\n",
    "ted_info['published_date'] = ted_info['published_date'].apply(lambda x: dt.datetime.fromtimestamp( int(x)).strftime('%d-%m-%Y'))"
   ]
  },
  {
   "cell_type": "code",
   "execution_count": 100,
   "metadata": {
    "scrolled": false
   },
   "outputs": [
    {
     "data": {
      "text/html": [
       "<div>\n",
       "<style>\n",
       "    .dataframe thead tr:only-child th {\n",
       "        text-align: right;\n",
       "    }\n",
       "\n",
       "    .dataframe thead th {\n",
       "        text-align: left;\n",
       "    }\n",
       "\n",
       "    .dataframe tbody tr th {\n",
       "        vertical-align: top;\n",
       "    }\n",
       "</style>\n",
       "<table border=\"1\" class=\"dataframe\">\n",
       "  <thead>\n",
       "    <tr style=\"text-align: right;\">\n",
       "      <th></th>\n",
       "      <th>name</th>\n",
       "      <th>title</th>\n",
       "      <th>description</th>\n",
       "      <th>main_speaker</th>\n",
       "      <th>num_speaker</th>\n",
       "      <th>speaker_occupation</th>\n",
       "      <th>event</th>\n",
       "      <th>film_date</th>\n",
       "      <th>published_date</th>\n",
       "      <th>duration</th>\n",
       "      <th>ratings</th>\n",
       "      <th>views</th>\n",
       "      <th>tags</th>\n",
       "      <th>comments</th>\n",
       "      <th>related_talks</th>\n",
       "      <th>url</th>\n",
       "    </tr>\n",
       "  </thead>\n",
       "  <tbody>\n",
       "    <tr>\n",
       "      <th>0</th>\n",
       "      <td>Ken Robinson: Do schools kill creativity?</td>\n",
       "      <td>Do schools kill creativity?</td>\n",
       "      <td>Sir Ken Robinson makes an entertaining and pro...</td>\n",
       "      <td>Ken Robinson</td>\n",
       "      <td>1</td>\n",
       "      <td>Author/educator</td>\n",
       "      <td>TED2006</td>\n",
       "      <td>24-02-2006</td>\n",
       "      <td>26-06-2006</td>\n",
       "      <td>1164</td>\n",
       "      <td>[{'id': 7, 'name': 'Funny', 'count': 19645}, {...</td>\n",
       "      <td>47227110</td>\n",
       "      <td>['children', 'creativity', 'culture', 'dance',...</td>\n",
       "      <td>4553</td>\n",
       "      <td>[{'id': 865, 'hero': 'https://pe.tedcdn.com/im...</td>\n",
       "      <td>https://www.ted.com/talks/ken_robinson_says_sc...</td>\n",
       "    </tr>\n",
       "    <tr>\n",
       "      <th>1</th>\n",
       "      <td>Al Gore: Averting the climate crisis</td>\n",
       "      <td>Averting the climate crisis</td>\n",
       "      <td>With the same humor and humanity he exuded in ...</td>\n",
       "      <td>Al Gore</td>\n",
       "      <td>1</td>\n",
       "      <td>Climate advocate</td>\n",
       "      <td>TED2006</td>\n",
       "      <td>24-02-2006</td>\n",
       "      <td>26-06-2006</td>\n",
       "      <td>977</td>\n",
       "      <td>[{'id': 7, 'name': 'Funny', 'count': 544}, {'i...</td>\n",
       "      <td>3200520</td>\n",
       "      <td>['alternative energy', 'cars', 'climate change...</td>\n",
       "      <td>265</td>\n",
       "      <td>[{'id': 243, 'hero': 'https://pe.tedcdn.com/im...</td>\n",
       "      <td>https://www.ted.com/talks/al_gore_on_averting_...</td>\n",
       "    </tr>\n",
       "    <tr>\n",
       "      <th>2</th>\n",
       "      <td>David Pogue: Simplicity sells</td>\n",
       "      <td>Simplicity sells</td>\n",
       "      <td>New York Times columnist David Pogue takes aim...</td>\n",
       "      <td>David Pogue</td>\n",
       "      <td>1</td>\n",
       "      <td>Technology columnist</td>\n",
       "      <td>TED2006</td>\n",
       "      <td>23-02-2006</td>\n",
       "      <td>26-06-2006</td>\n",
       "      <td>1286</td>\n",
       "      <td>[{'id': 7, 'name': 'Funny', 'count': 964}, {'i...</td>\n",
       "      <td>1636292</td>\n",
       "      <td>['computers', 'entertainment', 'interface desi...</td>\n",
       "      <td>124</td>\n",
       "      <td>[{'id': 1725, 'hero': 'https://pe.tedcdn.com/i...</td>\n",
       "      <td>https://www.ted.com/talks/david_pogue_says_sim...</td>\n",
       "    </tr>\n",
       "    <tr>\n",
       "      <th>3</th>\n",
       "      <td>Majora Carter: Greening the ghetto</td>\n",
       "      <td>Greening the ghetto</td>\n",
       "      <td>In an emotionally charged talk, MacArthur-winn...</td>\n",
       "      <td>Majora Carter</td>\n",
       "      <td>1</td>\n",
       "      <td>Activist for environmental justice</td>\n",
       "      <td>TED2006</td>\n",
       "      <td>25-02-2006</td>\n",
       "      <td>26-06-2006</td>\n",
       "      <td>1116</td>\n",
       "      <td>[{'id': 3, 'name': 'Courageous', 'count': 760}...</td>\n",
       "      <td>1697550</td>\n",
       "      <td>['MacArthur grant', 'activism', 'business', 'c...</td>\n",
       "      <td>200</td>\n",
       "      <td>[{'id': 1041, 'hero': 'https://pe.tedcdn.com/i...</td>\n",
       "      <td>https://www.ted.com/talks/majora_carter_s_tale...</td>\n",
       "    </tr>\n",
       "    <tr>\n",
       "      <th>4</th>\n",
       "      <td>Hans Rosling: The best stats you've ever seen</td>\n",
       "      <td>The best stats you've ever seen</td>\n",
       "      <td>You've never seen data presented like this. Wi...</td>\n",
       "      <td>Hans Rosling</td>\n",
       "      <td>1</td>\n",
       "      <td>Global health expert; data visionary</td>\n",
       "      <td>TED2006</td>\n",
       "      <td>21-02-2006</td>\n",
       "      <td>27-06-2006</td>\n",
       "      <td>1190</td>\n",
       "      <td>[{'id': 9, 'name': 'Ingenious', 'count': 3202}...</td>\n",
       "      <td>12005869</td>\n",
       "      <td>['Africa', 'Asia', 'Google', 'demo', 'economic...</td>\n",
       "      <td>593</td>\n",
       "      <td>[{'id': 2056, 'hero': 'https://pe.tedcdn.com/i...</td>\n",
       "      <td>https://www.ted.com/talks/hans_rosling_shows_t...</td>\n",
       "    </tr>\n",
       "  </tbody>\n",
       "</table>\n",
       "</div>"
      ],
      "text/plain": [
       "                                            name  \\\n",
       "0      Ken Robinson: Do schools kill creativity?   \n",
       "1           Al Gore: Averting the climate crisis   \n",
       "2                  David Pogue: Simplicity sells   \n",
       "3             Majora Carter: Greening the ghetto   \n",
       "4  Hans Rosling: The best stats you've ever seen   \n",
       "\n",
       "                             title  \\\n",
       "0      Do schools kill creativity?   \n",
       "1      Averting the climate crisis   \n",
       "2                 Simplicity sells   \n",
       "3              Greening the ghetto   \n",
       "4  The best stats you've ever seen   \n",
       "\n",
       "                                         description   main_speaker  \\\n",
       "0  Sir Ken Robinson makes an entertaining and pro...   Ken Robinson   \n",
       "1  With the same humor and humanity he exuded in ...        Al Gore   \n",
       "2  New York Times columnist David Pogue takes aim...    David Pogue   \n",
       "3  In an emotionally charged talk, MacArthur-winn...  Majora Carter   \n",
       "4  You've never seen data presented like this. Wi...   Hans Rosling   \n",
       "\n",
       "   num_speaker                    speaker_occupation    event   film_date  \\\n",
       "0            1                       Author/educator  TED2006  24-02-2006   \n",
       "1            1                      Climate advocate  TED2006  24-02-2006   \n",
       "2            1                  Technology columnist  TED2006  23-02-2006   \n",
       "3            1    Activist for environmental justice  TED2006  25-02-2006   \n",
       "4            1  Global health expert; data visionary  TED2006  21-02-2006   \n",
       "\n",
       "  published_date  duration                                            ratings  \\\n",
       "0     26-06-2006      1164  [{'id': 7, 'name': 'Funny', 'count': 19645}, {...   \n",
       "1     26-06-2006       977  [{'id': 7, 'name': 'Funny', 'count': 544}, {'i...   \n",
       "2     26-06-2006      1286  [{'id': 7, 'name': 'Funny', 'count': 964}, {'i...   \n",
       "3     26-06-2006      1116  [{'id': 3, 'name': 'Courageous', 'count': 760}...   \n",
       "4     27-06-2006      1190  [{'id': 9, 'name': 'Ingenious', 'count': 3202}...   \n",
       "\n",
       "      views                                               tags  comments  \\\n",
       "0  47227110  ['children', 'creativity', 'culture', 'dance',...      4553   \n",
       "1   3200520  ['alternative energy', 'cars', 'climate change...       265   \n",
       "2   1636292  ['computers', 'entertainment', 'interface desi...       124   \n",
       "3   1697550  ['MacArthur grant', 'activism', 'business', 'c...       200   \n",
       "4  12005869  ['Africa', 'Asia', 'Google', 'demo', 'economic...       593   \n",
       "\n",
       "                                       related_talks  \\\n",
       "0  [{'id': 865, 'hero': 'https://pe.tedcdn.com/im...   \n",
       "1  [{'id': 243, 'hero': 'https://pe.tedcdn.com/im...   \n",
       "2  [{'id': 1725, 'hero': 'https://pe.tedcdn.com/i...   \n",
       "3  [{'id': 1041, 'hero': 'https://pe.tedcdn.com/i...   \n",
       "4  [{'id': 2056, 'hero': 'https://pe.tedcdn.com/i...   \n",
       "\n",
       "                                                 url  \n",
       "0  https://www.ted.com/talks/ken_robinson_says_sc...  \n",
       "1  https://www.ted.com/talks/al_gore_on_averting_...  \n",
       "2  https://www.ted.com/talks/david_pogue_says_sim...  \n",
       "3  https://www.ted.com/talks/majora_carter_s_tale...  \n",
       "4  https://www.ted.com/talks/hans_rosling_shows_t...  "
      ]
     },
     "execution_count": 100,
     "metadata": {},
     "output_type": "execute_result"
    }
   ],
   "source": [
    "ted_info.head()"
   ]
  },
  {
   "cell_type": "markdown",
   "metadata": {},
   "source": [
    "## Most Viewed Talks of All Time"
   ]
  },
  {
   "cell_type": "code",
   "execution_count": 116,
   "metadata": {
    "scrolled": false
   },
   "outputs": [
    {
     "data": {
      "text/html": [
       "<div>\n",
       "<style>\n",
       "    .dataframe thead tr:only-child th {\n",
       "        text-align: right;\n",
       "    }\n",
       "\n",
       "    .dataframe thead th {\n",
       "        text-align: left;\n",
       "    }\n",
       "\n",
       "    .dataframe tbody tr th {\n",
       "        vertical-align: top;\n",
       "    }\n",
       "</style>\n",
       "<table border=\"1\" class=\"dataframe\">\n",
       "  <thead>\n",
       "    <tr style=\"text-align: right;\">\n",
       "      <th></th>\n",
       "      <th>name</th>\n",
       "      <th>title</th>\n",
       "      <th>description</th>\n",
       "      <th>main_speaker</th>\n",
       "    </tr>\n",
       "  </thead>\n",
       "  <tbody>\n",
       "    <tr>\n",
       "      <th>0</th>\n",
       "      <td>Ken Robinson: Do schools kill creativity?</td>\n",
       "      <td>Do schools kill creativity?</td>\n",
       "      <td>Sir Ken Robinson makes an entertaining and pro...</td>\n",
       "      <td>Ken Robinson</td>\n",
       "    </tr>\n",
       "    <tr>\n",
       "      <th>1346</th>\n",
       "      <td>Amy Cuddy: Your body language may shape who yo...</td>\n",
       "      <td>Your body language may shape who you are</td>\n",
       "      <td>Body language affects how others see us, but i...</td>\n",
       "      <td>Amy Cuddy</td>\n",
       "    </tr>\n",
       "    <tr>\n",
       "      <th>677</th>\n",
       "      <td>Simon Sinek: How great leaders inspire action</td>\n",
       "      <td>How great leaders inspire action</td>\n",
       "      <td>Simon Sinek has a simple but powerful model fo...</td>\n",
       "      <td>Simon Sinek</td>\n",
       "    </tr>\n",
       "    <tr>\n",
       "      <th>837</th>\n",
       "      <td>Brené Brown: The power of vulnerability</td>\n",
       "      <td>The power of vulnerability</td>\n",
       "      <td>Brené Brown studies human connection -- our ab...</td>\n",
       "      <td>Brené Brown</td>\n",
       "    </tr>\n",
       "    <tr>\n",
       "      <th>452</th>\n",
       "      <td>Mary Roach: 10 things you didn't know about or...</td>\n",
       "      <td>10 things you didn't know about orgasm</td>\n",
       "      <td>\"Bonk\" author Mary Roach delves into obscure s...</td>\n",
       "      <td>Mary Roach</td>\n",
       "    </tr>\n",
       "    <tr>\n",
       "      <th>1776</th>\n",
       "      <td>Julian Treasure: How to speak so that people w...</td>\n",
       "      <td>How to speak so that people want to listen</td>\n",
       "      <td>Have you ever felt like you're talking, but no...</td>\n",
       "      <td>Julian Treasure</td>\n",
       "    </tr>\n",
       "  </tbody>\n",
       "</table>\n",
       "</div>"
      ],
      "text/plain": [
       "                                                   name  \\\n",
       "0             Ken Robinson: Do schools kill creativity?   \n",
       "1346  Amy Cuddy: Your body language may shape who yo...   \n",
       "677       Simon Sinek: How great leaders inspire action   \n",
       "837             Brené Brown: The power of vulnerability   \n",
       "452   Mary Roach: 10 things you didn't know about or...   \n",
       "1776  Julian Treasure: How to speak so that people w...   \n",
       "\n",
       "                                           title  \\\n",
       "0                    Do schools kill creativity?   \n",
       "1346    Your body language may shape who you are   \n",
       "677             How great leaders inspire action   \n",
       "837                   The power of vulnerability   \n",
       "452       10 things you didn't know about orgasm   \n",
       "1776  How to speak so that people want to listen   \n",
       "\n",
       "                                            description     main_speaker  \n",
       "0     Sir Ken Robinson makes an entertaining and pro...     Ken Robinson  \n",
       "1346  Body language affects how others see us, but i...        Amy Cuddy  \n",
       "677   Simon Sinek has a simple but powerful model fo...      Simon Sinek  \n",
       "837   Brené Brown studies human connection -- our ab...      Brené Brown  \n",
       "452   \"Bonk\" author Mary Roach delves into obscure s...       Mary Roach  \n",
       "1776  Have you ever felt like you're talking, but no...  Julian Treasure  "
      ]
     },
     "execution_count": 116,
     "metadata": {},
     "output_type": "execute_result"
    }
   ],
   "source": [
    "pop_talks = ted_info.sort_values(by=['views'], ascending=False)[:15]\n",
    "pop_talks.iloc[0:6,0:4]"
   ]
  },
  {
   "cell_type": "code",
   "execution_count": 150,
   "metadata": {},
   "outputs": [],
   "source": [
    "fullnames = pop_talks['main_speaker'].apply(lambda x: x.partition(' '))\n",
    "pop_talks['speaker_first_name'] = fullnames.apply(lambda x: x[0])"
   ]
  },
  {
   "cell_type": "code",
   "execution_count": 151,
   "metadata": {},
   "outputs": [
    {
     "data": {
      "text/plain": [
       "<matplotlib.axes._subplots.AxesSubplot at 0x15183276908>"
      ]
     },
     "execution_count": 151,
     "metadata": {},
     "output_type": "execute_result"
    },
    {
     "data": {
      "image/png": "[encoded data removed]",
      "text/plain": [
       "<matplotlib.figure.Figure at 0x151831705f8>"
      ]
     },
     "metadata": {},
     "output_type": "display_data"
    }
   ],
   "source": [
    "plt.figure(figsize=(10,6))\n",
    "sns.barplot(x='speaker_first_name', y='views', data=pop_talks)"
   ]
  },
  {
   "cell_type": "code",
   "execution_count": 124,
   "metadata": {},
   "outputs": [
    {
     "data": {
      "text/plain": [
       "'Ken'"
      ]
     },
     "execution_count": 124,
     "metadata": {},
     "output_type": "execute_result"
    }
   ],
   "source": []
  },
  {
   "cell_type": "code",
   "execution_count": null,
   "metadata": {
    "collapsed": true
   },
   "outputs": [],
   "source": []
  }
 ],
 "metadata": {
  "kernelspec": {
   "display_name": "Python 3",
   "language": "python",
   "name": "python3"
  },
  "language_info": {
   "codemirror_mode": {
    "name": "ipython",
    "version": 3
   },
   "file_extension": ".py",
   "mimetype": "text/x-python",
   "name": "python",
   "nbconvert_exporter": "python",
   "pygments_lexer": "ipython3",
   "version": "3.6.3"
  }
 },
 "nbformat": 4,
 "nbformat_minor": 2
}
